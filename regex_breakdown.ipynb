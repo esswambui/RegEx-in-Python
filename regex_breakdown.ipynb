{
 "cells": [
  {
   "cell_type": "markdown",
   "metadata": {},
   "source": [
    "# Regular Expressions"
   ]
  },
  {
   "cell_type": "markdown",
   "metadata": {},
   "source": [
    "### What are regular expressions?\n",
    "A Regular Expression (RegEX), is a sequence of characters that forms a search pattern. RegEx are used in many programming languages, text editors, and other tools as a means of determining whether a string matches a specified pattern.        \n",
    "Common cases where regular expressions are used include:\n",
    "- Search in search engines.\n",
    "- Validation of the format of email addresses, phone numbers or passwords during registration in a web portal.\n",
    "- Manipulation of textual data in data science projects.\n",
    "\n",
    "### Regular Expresssions in Python.\n",
    "In Python, regular expressions are supported by the **re module**.Therefore, to  use regex in python scripts we have to import the module.  as shown below:"
   ]
  },
  {
   "cell_type": "code",
   "execution_count": null,
   "metadata": {},
   "outputs": [],
   "source": [
    "import re"
   ]
  },
  {
   "cell_type": "markdown",
   "metadata": {},
   "source": [
    "This library provides several functions that make it posssible to search a string for a match. Some of the most common ones include:\n",
    "- **re.compile() -**\n",
    "Compiles a regular expression pattern into a regular expression object, which can be used for matching. It is more efficient when the expression will be used several times in a single program.\n",
    "- **re.search() -**\n",
    "Scans through a string looking for the first location where the regular expression pattern produces a match, and returns a corresponding match object. Otherwise, it returns None.\n",
    "- **re.findall() -**\n",
    "Returns all matches of a pattern in a string as a list of strings.\n",
    "- **re.finditer() -**\n",
    "Returns an iterator containing match objects of all matches of a pattern in a string. \n",
    "- **re.sub() -**\n",
    "Returns the string obtained by replacing the occurrences of a pattern in the string by the replacement repl. If the pattern isn’t found, string is returned unchanged.  \n",
    "- **re.split() -**\n",
    "Split string by the occurrences of a specified pattern.      \n",
    "\n",
    "More functions can be found in the [Python Documenation](https://docs.python.org/3/library/re.html)\n"
   ]
  },
  {
   "cell_type": "markdown",
   "metadata": {},
   "source": [
    "### Below is a simple docstring which we shall use regular expressions on."
   ]
  },
  {
   "cell_type": "code",
   "execution_count": null,
   "metadata": {},
   "outputs": [],
   "source": [
    "text_to_search = '''This is just a simple line of text\n",
    "abcdefghijklmnopqurtuvwxyz\n",
    "abc\n",
    "abcabcabc\n",
    "abcabcabcabcabc\n",
    "ABCDEFGHIJKLMNOPQRSTUVWXYZ\n",
    "I love cats.\n",
    ".com\n",
    "1234567890\n",
    "La LaLa\n",
    ". ^ $ * + ? { } [ ] \\ | ( )\n",
    "This marks the end'''"
   ]
  },
  {
   "cell_type": "markdown",
   "metadata": {},
   "source": [
    "#### re.search()\n",
    "\n",
    "We can perform simple regex using literals as illustrated below:"
   ]
  },
  {
   "cell_type": "code",
   "execution_count": null,
   "metadata": {},
   "outputs": [],
   "source": [
    "match_object = re.search('ABC', text_to_search) #case sensitive\n",
    "print (match_object)\n"
   ]
  },
  {
   "cell_type": "markdown",
   "metadata": {},
   "source": [
    "This returns an object containing the first occurence of \"abc\"."
   ]
  },
  {
   "cell_type": "code",
   "execution_count": null,
   "metadata": {},
   "outputs": [],
   "source": [
    "print (text_to_search[92:95])"
   ]
  },
  {
   "cell_type": "markdown",
   "metadata": {},
   "source": [
    "#### Working with Match Objects"
   ]
  },
  {
   "cell_type": "markdown",
   "metadata": {},
   "source": [
    "The Match object has properties and methods:\n",
    "\n",
    "- **span() -** returns a tuple containing the start and end positions of the match.\n",
    "- **string -** returns the string passed into the function.\n",
    "- **group() -** returns the part of the string where there was a match"
   ]
  },
  {
   "cell_type": "code",
   "execution_count": null,
   "metadata": {},
   "outputs": [],
   "source": [
    "print (f\"{match_object}\\n\")\n",
    "print (f\"The start and end indices: {match_object.span()}\\n\")\n",
    "print (\"The pattern matched: \" + match_object.group() + \"\\n\")\n",
    "print (\"\\tThe entire string: \\n ___________________________________\\n\" + match_object.string)\n"
   ]
  },
  {
   "cell_type": "markdown",
   "metadata": {},
   "source": [
    "#### re.compile()"
   ]
  },
  {
   "cell_type": "code",
   "execution_count": null,
   "metadata": {},
   "outputs": [],
   "source": [
    "pattern = re.compile(r'abc')"
   ]
  },
  {
   "cell_type": "markdown",
   "metadata": {},
   "source": [
    "#### re.findall()"
   ]
  },
  {
   "cell_type": "code",
   "execution_count": null,
   "metadata": {},
   "outputs": [],
   "source": [
    "letters = pattern.findall(text_to_search)#returns all occurences.\n",
    "for match in letters:\n",
    "    print (match)"
   ]
  },
  {
   "cell_type": "markdown",
   "metadata": {},
   "source": [
    "#### re.finditer()"
   ]
  },
  {
   "cell_type": "code",
   "execution_count": null,
   "metadata": {},
   "outputs": [],
   "source": [
    "letters_object = pattern.finditer(text_to_search)#returns match objects of all occurences.\n",
    "for object in letters_object:\n",
    "    print (object)"
   ]
  },
  {
   "cell_type": "markdown",
   "metadata": {},
   "source": [
    "##### re.sub()"
   ]
  },
  {
   "cell_type": "code",
   "execution_count": null,
   "metadata": {},
   "outputs": [],
   "source": [
    "substitute = re.sub(\"cats\",\"dogs\",text_to_search) #replace the word cats with dogs.\n",
    "print(substitute)"
   ]
  },
  {
   "cell_type": "markdown",
   "metadata": {},
   "source": [
    "##### re.split()"
   ]
  },
  {
   "cell_type": "code",
   "execution_count": null,
   "metadata": {},
   "outputs": [],
   "source": [
    "split_string = re.split(\"\\s\", text_to_search) #split the string at the whitespaces.\n",
    "print(split_string)"
   ]
  },
  {
   "cell_type": "markdown",
   "metadata": {},
   "source": [
    "### Metacharacters\n",
    "These are characters that are interpreted in a special way by a RegEx engine."
   ]
  },
  {
   "cell_type": "markdown",
   "metadata": {},
   "source": [
    "##### \\\\ - Escapes special characters or denotes character classes."
   ]
  },
  {
   "cell_type": "code",
   "execution_count": null,
   "metadata": {},
   "outputs": [],
   "source": [
    "periods = re.finditer(r\"\\.\",text_to_search)\n",
    "for period in periods:\n",
    "    print(period)\n"
   ]
  },
  {
   "cell_type": "markdown",
   "metadata": {},
   "source": [
    "##### . - Matches any character except line terminators like \\n (new line).\n"
   ]
  },
  {
   "cell_type": "code",
   "execution_count": null,
   "metadata": {},
   "outputs": [],
   "source": [
    "period_char = re.findall(r\".\",text_to_search)\n",
    "print(period_char)\n"
   ]
  },
  {
   "cell_type": "markdown",
   "metadata": {},
   "source": [
    "##### ^ - Matches the literal at the start of a string.  Checks if a string starts with a certain character."
   ]
  },
  {
   "cell_type": "code",
   "execution_count": null,
   "metadata": {},
   "outputs": [],
   "source": [
    "start_string = re.search(r\"^This\", text_to_search)\n",
    "print (start_string)"
   ]
  },
  {
   "cell_type": "markdown",
   "metadata": {},
   "source": [
    "##### \\$ - Matches the literal at the end of a string. Checks if a string ends with a certain character."
   ]
  },
  {
   "cell_type": "code",
   "execution_count": null,
   "metadata": {},
   "outputs": [],
   "source": [
    "end_string = re.search(\"end$\", text_to_search)\n",
    "print (end_string)"
   ]
  },
  {
   "cell_type": "code",
   "execution_count": null,
   "metadata": {},
   "outputs": [],
   "source": [
    "print(text_to_search)"
   ]
  },
  {
   "cell_type": "markdown",
   "metadata": {},
   "source": [
    "##### ? - Matches zero or one occurrence of the pattern left to it."
   ]
  },
  {
   "cell_type": "code",
   "execution_count": null,
   "metadata": {},
   "outputs": [],
   "source": [
    "phrase = \"pan paan in Japan and paaan or pn is not a pun \"\n",
    "\n",
    "qmark_re = re.finditer(r\"pa?n\", phrase)\n",
    "for qmark in qmark_re:\n",
    "    print (qmark)"
   ]
  },
  {
   "cell_type": "markdown",
   "metadata": {},
   "source": [
    "##### * - Matches zero or more occurrences of the pattern left to it."
   ]
  },
  {
   "cell_type": "code",
   "execution_count": null,
   "metadata": {},
   "outputs": [],
   "source": [
    "phrase = \"pan paan in Japan and paaan or pn is not a pun \"\n",
    "\n",
    "star_re = re.finditer(r\"pa*n\", phrase)\n",
    "for star in star_re:\n",
    "    print (star)"
   ]
  },
  {
   "cell_type": "markdown",
   "metadata": {},
   "source": [
    "##### + - Matches one or more occurrences of the pattern left to it."
   ]
  },
  {
   "cell_type": "code",
   "execution_count": null,
   "metadata": {},
   "outputs": [],
   "source": [
    "phrase = \"pan paan in Japan and paaan or pn is not a pun \"\n",
    "\n",
    "plus_re = re.finditer(r\"pa+n\", phrase)\n",
    "for p in plus_re:\n",
    "    print (p)"
   ]
  },
  {
   "cell_type": "markdown",
   "metadata": {},
   "source": [
    "##### {} - Matches exactly the specified number of occurrences"
   ]
  },
  {
   "cell_type": "code",
   "execution_count": null,
   "metadata": {},
   "outputs": [],
   "source": [
    "alphabet = re.finditer(r\"(abc){5}\", text_to_search)\n",
    "for a in alphabet:\n",
    "    print (a)\n"
   ]
  },
  {
   "cell_type": "markdown",
   "metadata": {},
   "source": [
    "##### {n,} -Matches n or more occurrences of preceding expression"
   ]
  },
  {
   "cell_type": "code",
   "execution_count": null,
   "metadata": {},
   "outputs": [],
   "source": [
    "alphabet = re.finditer(r\"(abc){1,}\", text_to_search)\n",
    "for a in alphabet:\n",
    "    print (a)"
   ]
  },
  {
   "cell_type": "markdown",
   "metadata": {},
   "source": [
    "##### {n, m} -Matches at least n and at most m occurrences of preceding expression"
   ]
  },
  {
   "cell_type": "code",
   "execution_count": null,
   "metadata": {},
   "outputs": [],
   "source": [
    "alphabet = re.finditer(r\"(abc){2,4}\", text_to_search)\n",
    "for a in alphabet:\n",
    "    print (a)"
   ]
  },
  {
   "cell_type": "markdown",
   "metadata": {},
   "source": [
    "##### | - (or operator). Matches either or"
   ]
  },
  {
   "cell_type": "code",
   "execution_count": null,
   "metadata": {},
   "outputs": [],
   "source": [
    "match_object = re.finditer((\"ABCD|abcd\"), text_to_search) #case sensitive\n",
    "for obj in match_object:\n",
    "    print (obj)"
   ]
  },
  {
   "cell_type": "markdown",
   "metadata": {},
   "source": [
    "##### () - Used to capture and group sub-patterns"
   ]
  },
  {
   "cell_type": "markdown",
   "metadata": {},
   "source": [
    "###### \t[...] - Matches any single character in brackets."
   ]
  },
  {
   "cell_type": "markdown",
   "metadata": {},
   "source": [
    "##### [^...] -Matches any single character not in brackets"
   ]
  },
  {
   "cell_type": "markdown",
   "metadata": {},
   "source": [
    "### Special Sequences\n",
    "\n",
    "Special sequences are denoted by a \\ followed by a specified character. They make commonly used patterns easier to write.        \n",
    "\n",
    "***It is advisable to use raw strings with special sequences.***"
   ]
  },
  {
   "cell_type": "code",
   "execution_count": null,
   "metadata": {},
   "outputs": [],
   "source": [
    "print (\"\\n \\t Newline\")\n",
    "print (r\"\\n \\t Newline\") #rawstring"
   ]
  },
  {
   "cell_type": "markdown",
   "metadata": {},
   "source": [
    "##### \\\\w - Matches alphanumeric characters. *includes _*"
   ]
  },
  {
   "cell_type": "code",
   "execution_count": null,
   "metadata": {},
   "outputs": [],
   "source": [
    "alphanumeric = re.findall(\"\\w\", text_to_search)\n",
    "print(alphanumeric)"
   ]
  },
  {
   "cell_type": "markdown",
   "metadata": {},
   "source": [
    "##### \\\\d  - Matches digits, which means 0-9."
   ]
  },
  {
   "cell_type": "code",
   "execution_count": null,
   "metadata": {},
   "outputs": [],
   "source": [
    "digits = re.findall(\"\\d\", text_to_search)\n",
    "print(digits)"
   ]
  },
  {
   "cell_type": "markdown",
   "metadata": {},
   "source": [
    "### \\\\s - Matches whitespace characters."
   ]
  },
  {
   "cell_type": "code",
   "execution_count": null,
   "metadata": {},
   "outputs": [],
   "source": [
    "whitespaces = re.finditer(\"\\s\", text_to_search)\n",
    "for whitespace in whitespaces:\n",
    "    print(whitespace)"
   ]
  },
  {
   "cell_type": "markdown",
   "metadata": {},
   "source": [
    "### \\\\b | Matches if there is a boundary (or empty string) at the start and end  therefore, mtches if the specified characters are at the beginning or end of a word"
   ]
  },
  {
   "cell_type": "code",
   "execution_count": null,
   "metadata": {},
   "outputs": [],
   "source": [
    "words = re.finditer(r\"\\bLa\",text_to_search)\n",
    "for word in words:\n",
    "    print(word)"
   ]
  },
  {
   "cell_type": "markdown",
   "metadata": {},
   "source": [
    "***The characters in uppercase do the opposite.***"
   ]
  },
  {
   "cell_type": "markdown",
   "metadata": {},
   "source": [
    "### Practical Examples\n",
    "In this examples we shall be retrieving information from a text file *contacts.txt*"
   ]
  },
  {
   "cell_type": "markdown",
   "metadata": {},
   "source": [
    "#####  \tGetting the phone numbers."
   ]
  },
  {
   "cell_type": "code",
   "execution_count": null,
   "metadata": {},
   "outputs": [],
   "source": [
    "with open (\"contacts.txt\") as f:\n",
    "    #print phonenumbers from Kenya\n",
    "    phonenumbers = re.findall(r\"[+]?254\\d{9}|07\\d{8}\", f.read())\n",
    "    print (f\"Kenyan phone numbers:{phonenumbers}\")\n",
    "     \n"
   ]
  },
  {
   "cell_type": "code",
   "execution_count": null,
   "metadata": {},
   "outputs": [],
   "source": [
    " with open (\"contacts.txt\") as f:\n",
    "    #american numbers\n",
    "    numbers = re.findall(r\"[+]?1?-?[(]?\\d{3}[).-]\\d{3}[.-]\\d{4}\", f.read())\n",
    "    print (\"American phone numbers:\")\n",
    "    for n in numbers:\n",
    "        print (n)"
   ]
  },
  {
   "cell_type": "markdown",
   "metadata": {},
   "source": [
    "#### Printing names of proffessors."
   ]
  },
  {
   "cell_type": "code",
   "execution_count": null,
   "metadata": {},
   "outputs": [],
   "source": [
    "with open (\"contacts.txt\") as f:\n",
    "    names = re.findall(r\"[Pp]rof.?\\s?[a-zA-Z]+\", f.read())\n",
    "    print(names)"
   ]
  },
  {
   "cell_type": "markdown",
   "metadata": {},
   "source": [
    "##### Getting the email addresses."
   ]
  },
  {
   "cell_type": "code",
   "execution_count": null,
   "metadata": {},
   "outputs": [],
   "source": [
    " with open (\"contacts.txt\") as f:\n",
    "    emails = re.findall(r\"[a-zA-Z0-9_-]+\\@[a-zA-Z-]+\\.[A-Za-z]{2,6}\", f.read())\n",
    "    for e in emails:\n",
    "     print (e)"
   ]
  },
  {
   "cell_type": "code",
   "execution_count": null,
   "metadata": {},
   "outputs": [],
   "source": []
  }
 ],
 "metadata": {
  "kernelspec": {
   "display_name": "Python 3",
   "language": "python",
   "name": "python3"
  },
  "language_info": {
   "codemirror_mode": {
    "name": "ipython",
    "version": 3
   },
   "file_extension": ".py",
   "mimetype": "text/x-python",
   "name": "python",
   "nbconvert_exporter": "python",
   "pygments_lexer": "ipython3",
   "version": "3.8.5"
  }
 },
 "nbformat": 4,
 "nbformat_minor": 4
}
